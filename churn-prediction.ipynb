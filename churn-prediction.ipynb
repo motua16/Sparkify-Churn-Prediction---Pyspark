{
 "cells": [
  {
   "cell_type": "markdown",
   "metadata": {},
   "source": [
    "## Project Overview\n",
    "Predicting churn rates is a very challenging and common problem that data scientists and analysts face in any customer-facing business. They have to ascertain it before so that steps can be taken to prevent users from churning.\n",
    "The goal of this project was to help Sparkify music service retain their customers. \n",
    "\n",
    "The main task of the project is to make a prediction, whether the customer is about to churn. Such a prediction can be made for each customer by a binary classifier model. The following tasks should be completed to create the model:\n",
    "1. Analyze and preprocess the data to extract usable features for each customer\n",
    "2. Train classifier and then evaluate it\n",
    "\n",
    "## Metrics\n",
    "\n",
    "As we will see further that the class set in this case is imbalanced, the number of customers who churned is three times less that the one who did not. So, accuracy will not be a good metric here. I choose F1 score as it will give weightage to both false positives and false negatives. False Positives is important because we would not want to spend money on a customer who will not churn, False Negatives is important because failure to detect them would lead to loss of customers.  "
   ]
  },
  {
   "cell_type": "code",
   "execution_count": 1,
   "metadata": {},
   "outputs": [],
   "source": [
    "# adding PySpark to sys.path at runtime\n",
    "import findspark\n",
    "findspark.init()"
   ]
  },
  {
   "cell_type": "code",
   "execution_count": 2,
   "metadata": {},
   "outputs": [],
   "source": [
    "import numpy as np\n",
    "import pandas as pd\n",
    "import matplotlib.pyplot as plt\n",
    "\n",
    "from datetime import datetime\n",
    "\n",
    "import re\n"
   ]
  },
  {
   "cell_type": "code",
   "execution_count": 3,
   "metadata": {},
   "outputs": [],
   "source": [
    "# import libraries for spark\n",
    "from pyspark.sql import SparkSession\n",
    "from pyspark.sql.types import StringType, DateType, IntegerType\n",
    "from pyspark.sql.functions import concat, lit, avg, split, isnan, when, count, col, sum, mean, stddev, min, max, round, udf, to_date, datediff \n",
    "from pyspark.sql import Window\n",
    "\n",
    "from pyspark.ml.feature import StringIndexer, VectorAssembler, Normalizer, StandardScaler, MinMaxScaler, OneHotEncoder, StringIndexer\n",
    "from pyspark.ml.classification import LogisticRegression, GBTClassifier, NaiveBayes, RandomForestClassifier\n",
    "from pyspark.ml import Pipeline\n",
    "from pyspark.ml.evaluation import MulticlassClassificationEvaluator\n",
    "from pyspark.ml.tuning import CrossValidator, ParamGridBuilder\n",
    "from pyspark.mllib.evaluation import BinaryClassificationMetrics, MulticlassMetrics\n",
    "from pyspark.mllib.util import MLUtils"
   ]
  },
  {
   "cell_type": "code",
   "execution_count": 4,
   "metadata": {},
   "outputs": [],
   "source": [
    "# create a Spark session\n",
    "spark = SparkSession.builder \\\n",
    "    .master(\"local\") \\\n",
    "    .appName(\"spark_app\") \\\n",
    "    .getOrCreate()"
   ]
  },
  {
   "cell_type": "markdown",
   "metadata": {},
   "source": [
    "# Processing Dataset\n",
    "Load and clean dataset `mini_sparkify_event_data.json`, checking for invalid or missing data. The file can be downloaded here : https://github.com/celestinhermez/sparkify_customer_churn/blob/master/mini_sparkify_event_data.json\n",
    "\n",
    "This is the smaller data to test on our local machine. \n",
    "\n",
    "It contains events like every activity that a user does on the app (any click)"
   ]
  },
  {
   "cell_type": "code",
   "execution_count": 5,
   "metadata": {},
   "outputs": [],
   "source": [
    "mini_sparkify_event_data = r'C:\\Users\\shubh\\Data_Science\\Projects\\Credit-Card\\mini_sparkify_event_data.json'"
   ]
  },
  {
   "cell_type": "code",
   "execution_count": 6,
   "metadata": {},
   "outputs": [
    {
     "name": "stdout",
     "output_type": "stream",
     "text": [
      "root\n",
      " |-- artist: string (nullable = true)\n",
      " |-- auth: string (nullable = true)\n",
      " |-- firstName: string (nullable = true)\n",
      " |-- gender: string (nullable = true)\n",
      " |-- itemInSession: long (nullable = true)\n",
      " |-- lastName: string (nullable = true)\n",
      " |-- length: double (nullable = true)\n",
      " |-- level: string (nullable = true)\n",
      " |-- location: string (nullable = true)\n",
      " |-- method: string (nullable = true)\n",
      " |-- page: string (nullable = true)\n",
      " |-- registration: long (nullable = true)\n",
      " |-- sessionId: long (nullable = true)\n",
      " |-- song: string (nullable = true)\n",
      " |-- status: long (nullable = true)\n",
      " |-- ts: long (nullable = true)\n",
      " |-- userAgent: string (nullable = true)\n",
      " |-- userId: string (nullable = true)\n",
      "\n"
     ]
    }
   ],
   "source": [
    "df = spark.read.json(mini_sparkify_event_data)\n",
    "\n",
    "df.printSchema()"
   ]
  },
  {
   "cell_type": "markdown",
   "metadata": {},
   "source": [
    "### Input Space Definition"
   ]
  },
  {
   "cell_type": "markdown",
   "metadata": {},
   "source": [
    "Description of the input dataset:"
   ]
  },
  {
   "cell_type": "markdown",
   "metadata": {},
   "source": [
    "|#| Column | Type | Description |\n",
    "| --- | --- | --- | --- |\n",
    "| 1 | userId | string | Unique identifier of the user|\n",
    "| 2 | artist | string | Name of the artist related to the song related to the event |\n",
    "| 3 | auth | string | authentication of the customer : whether he is logged in or not |\n",
    "| 4 | firstName | string | First name of the user |\n",
    "| 5 | gender | string | Gender of the user |\n",
    "| 6 | itemInSession | bigint | Item in session |\n",
    "| 7 | lastName | string | Last name of the user |\n",
    "| 8 | length | double | Length of the song related to the event |\n",
    "| 9 | level | string | Whether the account is free or paid. User can change the level, so events for the same user can have different levels |\n",
    "| 10 | location | string | Location of the user |\n",
    "| 11 | method | string | Get method or Put method |\n",
    "| 12 | page | string | Type of action which corresponds to the event : this can be clicking \"Next Song\", \"Upvoting\" etc |\n",
    "| 13 | registration | bigint | Registration |\n",
    "| 14 | sessionId | bigint/long| Session id|\n",
    "| 15 | song | string | Name of the song related to the event |\n",
    "| 16 | status | bigint/long | Response status from the page: 200, 404, 307 |\n",
    "| 17 | ts | bigint/long | Timestamp of the event |\n",
    "| 18 | userAgent | string | The browser used and other relevant information eg: Mozilla/5.0 |"
   ]
  },
  {
   "cell_type": "markdown",
   "metadata": {},
   "source": [
    "## Clean Dataset"
   ]
  },
  {
   "cell_type": "markdown",
   "metadata": {},
   "source": [
    "`1.` Check for missing values:"
   ]
  },
  {
   "cell_type": "code",
   "execution_count": 7,
   "metadata": {
    "scrolled": true
   },
   "outputs": [],
   "source": [
    "'''\n",
    "nan values are the ones which are not a number , a result of division by zero or something invalid. Null values are empty values.\n",
    "'''\n",
    "columns = df.describe().columns[1:]\n",
    "empy_vals = {}\n",
    "for column in columns:\n",
    "    empy_vals[column] = df.select('userId').where((isnan(column)) | (col(column).isNull())).count() \n",
    "\n"
   ]
  },
  {
   "cell_type": "code",
   "execution_count": 8,
   "metadata": {
    "scrolled": true
   },
   "outputs": [
    {
     "data": {
      "text/plain": [
       "{'artist': 58392,\n",
       " 'auth': 0,\n",
       " 'firstName': 8346,\n",
       " 'gender': 8346,\n",
       " 'itemInSession': 0,\n",
       " 'lastName': 8346,\n",
       " 'length': 58392,\n",
       " 'level': 0,\n",
       " 'location': 8346,\n",
       " 'method': 0,\n",
       " 'page': 0,\n",
       " 'registration': 8346,\n",
       " 'sessionId': 0,\n",
       " 'song': 58392,\n",
       " 'status': 0,\n",
       " 'ts': 0,\n",
       " 'userAgent': 8346,\n",
       " 'userId': 0}"
      ]
     },
     "execution_count": 8,
     "metadata": {},
     "output_type": "execute_result"
    }
   ],
   "source": [
    "empy_vals"
   ]
  },
  {
   "cell_type": "code",
   "execution_count": 9,
   "metadata": {},
   "outputs": [
    {
     "data": {
      "image/png": "[encoded data removed]",
      "text/plain": [
       "<Figure size 864x576 with 1 Axes>"
      ]
     },
     "metadata": {
      "needs_background": "light"
     },
     "output_type": "display_data"
    }
   ],
   "source": [
    "\n",
    "fig,ax = plt.subplots(1, figsize=(12,8))\n",
    "\n",
    "ax.barh(np.arange(len(empy_vals)), width= list(empy_vals.values()), align='center')\n",
    "\n",
    "ax.set_yticks(np.arange(len(empy_vals)))\n",
    "ax.set_yticklabels(empy_vals.keys())\n",
    "\n",
    "plt.title('Number of empty values per column')\n",
    "plt.ylabel('Columns')\n",
    "plt.xlabel('Number of empty values')   \n",
    "\n",
    "plt.show()"
   ]
  },
  {
   "cell_type": "markdown",
   "metadata": {},
   "source": [
    "There are exactly the same numbers of missing values for some of the columns. This may mean that some columns are not filled in for specific kind of events."
   ]
  },
  {
   "cell_type": "code",
   "execution_count": 10,
   "metadata": {},
   "outputs": [
    {
     "name": "stdout",
     "output_type": "stream",
     "text": [
      "+------+-----+---------+------------+--------+---------+--------+------+----+------+------+\n",
      "|userId| page|userAgent|registration|location|firstName|lastName|gender|song|length|artist|\n",
      "+------+-----+---------+------------+--------+---------+--------+------+----+------+------+\n",
      "|      | Home|     null|        null|    null|     null|    null|  null|null|  null|  null|\n",
      "|      | Help|     null|        null|    null|     null|    null|  null|null|  null|  null|\n",
      "|      | Home|     null|        null|    null|     null|    null|  null|null|  null|  null|\n",
      "|      |Login|     null|        null|    null|     null|    null|  null|null|  null|  null|\n",
      "|      | Home|     null|        null|    null|     null|    null|  null|null|  null|  null|\n",
      "|      |Login|     null|        null|    null|     null|    null|  null|null|  null|  null|\n",
      "|      |Login|     null|        null|    null|     null|    null|  null|null|  null|  null|\n",
      "|      |Login|     null|        null|    null|     null|    null|  null|null|  null|  null|\n",
      "|      | Home|     null|        null|    null|     null|    null|  null|null|  null|  null|\n",
      "|      |Login|     null|        null|    null|     null|    null|  null|null|  null|  null|\n",
      "|      | Home|     null|        null|    null|     null|    null|  null|null|  null|  null|\n",
      "|      | Home|     null|        null|    null|     null|    null|  null|null|  null|  null|\n",
      "|      |Login|     null|        null|    null|     null|    null|  null|null|  null|  null|\n",
      "|      | Home|     null|        null|    null|     null|    null|  null|null|  null|  null|\n",
      "|      |About|     null|        null|    null|     null|    null|  null|null|  null|  null|\n",
      "|      | Home|     null|        null|    null|     null|    null|  null|null|  null|  null|\n",
      "|      | Home|     null|        null|    null|     null|    null|  null|null|  null|  null|\n",
      "|      |Login|     null|        null|    null|     null|    null|  null|null|  null|  null|\n",
      "|      | Home|     null|        null|    null|     null|    null|  null|null|  null|  null|\n",
      "|      | Home|     null|        null|    null|     null|    null|  null|null|  null|  null|\n",
      "+------+-----+---------+------------+--------+---------+--------+------+----+------+------+\n",
      "only showing top 20 rows\n",
      "\n"
     ]
    }
   ],
   "source": [
    "# These are the columns having null values\n",
    "\n",
    "df.select(['userId','page', 'userAgent', 'registration', 'location', \\\n",
    "           'firstName', 'lastName', 'gender', 'song', 'length', 'artist']).where(isnan(df['firstName']) | df['firstName'].isNull()).show()\n",
    "# .where(isnan(df['firstName']) | df['firstName'].isNull()).show()"
   ]
  },
  {
   "cell_type": "code",
   "execution_count": 11,
   "metadata": {},
   "outputs": [
    {
     "data": {
      "text/plain": [
       "8346"
      ]
     },
     "execution_count": 11,
     "metadata": {},
     "output_type": "execute_result"
    }
   ],
   "source": [
    "df.select(['userId']).where(df['location'].isNull()).count()"
   ]
  },
  {
   "cell_type": "markdown",
   "metadata": {},
   "source": [
    "The rows with empty `userId`, which correspond to users, who are not signed in, have null values for `userAgent, registration, location, firstName, lastName, gender, song, length and artist` columns."
   ]
  },
  {
   "cell_type": "markdown",
   "metadata": {},
   "source": [
    "Other rows with empty `song, artist and length` columns probably correspond to other events, which are not related to listening to music, for example, upgrade or downgrade events. Let's look closer at the `page` column values corresponding to rows with empty `song, artist and length` columns."
   ]
  },
  {
   "cell_type": "code",
   "execution_count": 12,
   "metadata": {},
   "outputs": [
    {
     "name": "stdout",
     "output_type": "stream",
     "text": [
      "+--------+------+\n",
      "|    page| count|\n",
      "+--------+------+\n",
      "|NextSong|228108|\n",
      "+--------+------+\n",
      "\n"
     ]
    }
   ],
   "source": [
    "# select page column values where song, artist and length columns are not null\n",
    "df.select(['page']).where(df['song'].isNotNull() & df['length'].isNotNull() & df['artist'].isNotNull())\\\n",
    ".groupby('page').count().show()"
   ]
  },
  {
   "cell_type": "markdown",
   "metadata": {},
   "source": [
    "We see that `song, artist and length` columns are filled in only for `NextSong` event."
   ]
  },
  {
   "cell_type": "markdown",
   "metadata": {},
   "source": [
    "`2.` Check for empty strings in string type colums:"
   ]
  },
  {
   "cell_type": "code",
   "execution_count": 13,
   "metadata": {},
   "outputs": [],
   "source": [
    "# define list of columns with String type\n",
    "columns_str = ['artist', 'auth', 'firstName', \\\n",
    "               'gender', 'lastName', 'level', 'location', 'method', 'page', 'song', 'userAgent', 'userId']"
   ]
  },
  {
   "cell_type": "code",
   "execution_count": 14,
   "metadata": {},
   "outputs": [],
   "source": [
    "# for each column with type string find number of empty string values\n",
    "empy_str_vals = []\n",
    "for column in columns_str:\n",
    "    empy_str_vals.append(df.select(['userId']).where(df[column] == '').count())"
   ]
  },
  {
   "cell_type": "code",
   "execution_count": 15,
   "metadata": {},
   "outputs": [
    {
     "data": {
      "image/png": "[encoded data removed]",
      "text/plain": [
       "<Figure size 864x576 with 1 Axes>"
      ]
     },
     "metadata": {
      "needs_background": "light"
     },
     "output_type": "display_data"
    }
   ],
   "source": [
    "fig, ax = plt.subplots(1, figsize=(12,8))    \n",
    "\n",
    "ind = np.arange(len(empy_str_vals))\n",
    "ax.barh(ind, empy_str_vals)\n",
    "ax.set_yticks(ind)\n",
    "ax.set_yticklabels(columns_str, minor=False)\n",
    "\n",
    "plt.title('Number of empty string values per column')\n",
    "plt.ylabel('Columns')\n",
    "plt.xlabel('Number of empty string values')      \n",
    "\n",
    "plt.show()"
   ]
  },
  {
   "cell_type": "markdown",
   "metadata": {},
   "source": [
    "There is no `userId` for rows where user has not logged in, we have to predict customer churn, therefore we can omit these rows"
   ]
  },
  {
   "cell_type": "markdown",
   "metadata": {},
   "source": [
    "`3.` Check for invalid values in numeric columns:"
   ]
  },
  {
   "cell_type": "code",
   "execution_count": 16,
   "metadata": {},
   "outputs": [
    {
     "data": {
      "text/plain": [
       "['artist',\n",
       " 'auth',\n",
       " 'firstName',\n",
       " 'gender',\n",
       " 'itemInSession',\n",
       " 'lastName',\n",
       " 'length',\n",
       " 'level',\n",
       " 'location',\n",
       " 'method',\n",
       " 'page',\n",
       " 'registration',\n",
       " 'sessionId',\n",
       " 'song',\n",
       " 'status',\n",
       " 'ts',\n",
       " 'userAgent',\n",
       " 'userId']"
      ]
     },
     "execution_count": 16,
     "metadata": {},
     "output_type": "execute_result"
    }
   ],
   "source": [
    "df.columns"
   ]
  },
  {
   "cell_type": "code",
   "execution_count": 17,
   "metadata": {},
   "outputs": [
    {
     "name": "stdout",
     "output_type": "stream",
     "text": [
      "+-------+------------------+-----------------+-----------------+--------------------+------------------+--------------------+\n",
      "|summary|     itemInSession|           length|        sessionId|        registration|            status|                  ts|\n",
      "+-------+------------------+-----------------+-----------------+--------------------+------------------+--------------------+\n",
      "|  count|            286500|           228108|           286500|              278154|            286500|              286500|\n",
      "|   mean|114.41421291448516|249.1171819778458|1041.526554973822|1.535358834084427...|210.05459685863875|1.540956889810483...|\n",
      "| stddev|129.76726201140994|99.23517921058361|726.7762634630741| 3.291321616327586E9| 31.50507848842214|1.5075439608226302E9|\n",
      "|    min|                 0|          0.78322|                1|       1521380675000|               200|       1538352117000|\n",
      "|    max|              1321|       3024.66567|             2474|       1543247354000|               404|       1543799476000|\n",
      "+-------+------------------+-----------------+-----------------+--------------------+------------------+--------------------+\n",
      "\n"
     ]
    }
   ],
   "source": [
    "df.describe(['itemInSession', 'length', 'sessionId', 'registration','status', 'ts']).show()"
   ]
  },
  {
   "cell_type": "markdown",
   "metadata": {},
   "source": [
    "we see numeric columns don't have any invalid values."
   ]
  },
  {
   "cell_type": "markdown",
   "metadata": {},
   "source": [
    "`4.` __Perform data cleaning__: the following function removes rows with empty `userId` from the dataset."
   ]
  },
  {
   "cell_type": "code",
   "execution_count": 18,
   "metadata": {},
   "outputs": [
    {
     "data": {
      "text/plain": [
       "Row(artist='Martha Tilston', auth='Logged In', firstName='Colin', gender='M', itemInSession=50, lastName='Freeman', length=277.89016, level='paid', location='Bakersfield, CA', method='PUT', page='NextSong', registration=1538173362000, sessionId=29, song='Rockpools', status=200, ts=1538352117000, userAgent='Mozilla/5.0 (Windows NT 6.1; WOW64; rv:31.0) Gecko/20100101 Firefox/31.0', userId='30')"
      ]
     },
     "execution_count": 18,
     "metadata": {},
     "output_type": "execute_result"
    }
   ],
   "source": [
    "def clean_data(df):\n",
    "    \n",
    "    df_new = df.filter(df[\"userId\"] != \"\")\n",
    "    \n",
    "    return df_new\n",
    "\n",
    "\n",
    "df = clean_data(df)\n",
    "\n",
    "# print out first line\n",
    "df.head()"
   ]
  },
  {
   "cell_type": "code",
   "execution_count": 19,
   "metadata": {},
   "outputs": [
    {
     "data": {
      "text/plain": [
       "278154"
      ]
     },
     "execution_count": 19,
     "metadata": {},
     "output_type": "execute_result"
    }
   ],
   "source": [
    "# count after removal of users not logged in\n",
    "df.count() "
   ]
  },
  {
   "cell_type": "markdown",
   "metadata": {},
   "source": [
    "# Exploratory Data Analysis"
   ]
  },
  {
   "cell_type": "markdown",
   "metadata": {},
   "source": [
    "Exploratory data analysis for mini dataset, which is the subset of full dataset."
   ]
  },
  {
   "cell_type": "markdown",
   "metadata": {},
   "source": [
    "## 1. Preliminary Analysis"
   ]
  },
  {
   "cell_type": "markdown",
   "metadata": {},
   "source": [
    "Analyze categorical columns ('auth', 'gender', 'level', 'method', 'page'):"
   ]
  },
  {
   "cell_type": "code",
   "execution_count": 20,
   "metadata": {},
   "outputs": [
    {
     "data": {
      "image/png": "[encoded data removed]",
      "text/plain": [
       "<Figure size 432x288 with 1 Axes>"
      ]
     },
     "metadata": {
      "needs_background": "light"
     },
     "output_type": "display_data"
    },
    {
     "data": {
      "image/png": "[encoded data removed]",
      "text/plain": [
       "<Figure size 432x288 with 1 Axes>"
      ]
     },
     "metadata": {
      "needs_background": "light"
     },
     "output_type": "display_data"
    },
    {
     "data": {
      "image/png": "[encoded data removed]",
      "text/plain": [
       "<Figure size 432x288 with 1 Axes>"
      ]
     },
     "metadata": {
      "needs_background": "light"
     },
     "output_type": "display_data"
    },
    {
     "data": {
      "image/png": "[encoded data removed]",
      "text/plain": [
       "<Figure size 432x288 with 1 Axes>"
      ]
     },
     "metadata": {
      "needs_background": "light"
     },
     "output_type": "display_data"
    },
    {
     "data": {
      "image/png": "[encoded data removed]",
      "text/plain": [
       "<Figure size 432x288 with 1 Axes>"
      ]
     },
     "metadata": {
      "needs_background": "light"
     },
     "output_type": "display_data"
    }
   ],
   "source": [
    "\n",
    "cat_columns = ['auth', 'gender', 'level', 'method','page']\n",
    "\n",
    "\n",
    "for i in cat_columns:\n",
    "    temp = df.select([i, 'userId']).groupby(i).agg(count('userId')).toPandas()\n",
    "    fig, ax = plt.subplots(figsize=(6,4))\n",
    "    if len(list(temp[i]))>7:\n",
    "        ax.bar(list(temp[i]), height=list(temp['count(userId)']))\n",
    "        ax.set_xticklabels(list(temp[i]), rotation=90)\n",
    "    else:   \n",
    "        ax.bar(list(temp[i]), height=list(temp['count(userId)']))\n",
    "    ax.set_ylabel('count')\n",
    "    \n"
   ]
  },
  {
   "cell_type": "markdown",
   "metadata": {},
   "source": [
    "The plot above shows us the following about the small dataset:\n",
    "1. The number of events for female users is slightly greater than for male users. This may be true only for our small dataset which is the subset of the full dataset.\n",
    "2. The number of events for paid level accounts is approximately 4 times greater than the number of events for free level accounts.\n",
    "3. The most popular action is `NextSong` as that is the most common user action on a music app\n",
    "4. Most of the events are for Logged in Users"
   ]
  },
  {
   "cell_type": "code",
   "execution_count": 21,
   "metadata": {},
   "outputs": [
    {
     "name": "stdout",
     "output_type": "stream",
     "text": [
      "There are 121 male and 104 female users in dataset.\n"
     ]
    }
   ],
   "source": [
    "# calculate the number of female and male users\n",
    "\n",
    "male = df.select('userId', 'gender').where(df.gender == 'M').groupBy('userId').count().agg(count(\"count\"))\n",
    "female = df.select('userId', 'gender').where(df.gender == 'F').groupBy('userId').count().agg(count(\"count\"))\n",
    "\n",
    "print('There are {male} male and {female} female users in dataset.'\\\n",
    "      .format(male = male.collect()[0][\"count(count)\"],\\\n",
    "             female = female.collect()[0][\"count(count)\"]))"
   ]
  },
  {
   "cell_type": "code",
   "execution_count": 22,
   "metadata": {},
   "outputs": [
    {
     "name": "stdout",
     "output_type": "stream",
     "text": [
      "+------+-----+\n",
      "|gender|count|\n",
      "+------+-----+\n",
      "|     F|  104|\n",
      "|     M|  121|\n",
      "+------+-----+\n",
      "\n"
     ]
    }
   ],
   "source": [
    "# total number of distinct users by gender\n",
    "\n",
    "df.select('gender', 'userId').distinct().groupby('userId','gender').count().groupby('gender').count().show()"
   ]
  },
  {
   "cell_type": "code",
   "execution_count": 23,
   "metadata": {},
   "outputs": [
    {
     "name": "stdout",
     "output_type": "stream",
     "text": [
      "+-----+-----+\n",
      "|level|count|\n",
      "+-----+-----+\n",
      "| free|  195|\n",
      "| paid|  165|\n",
      "+-----+-----+\n",
      "\n"
     ]
    }
   ],
   "source": [
    "# total number of distinct users by type of account : free or paid\n",
    "\n",
    "df.select('level', 'userId').distinct().groupby('userId','level').count().groupby('level').count().show()"
   ]
  },
  {
   "cell_type": "markdown",
   "metadata": {},
   "source": [
    "We see that the total number of accounts we calculated `(165 + 195 = 360)` is greater than total amount of users `(121 + 104 = 225)`. This happened because one user can upgrade/downgrade his account, so when grouping by users we can get more records in total than the number of users."
   ]
  },
  {
   "cell_type": "markdown",
   "metadata": {},
   "source": [
    "The table above tells us:\n",
    "1. There are slightly more male users in mini dataset. But comparing with the previous plot where we saw more events for female users, we can say that female users are more active than male users\n",
    "2. There are slightly more free accounts in mini dataset, but there are more events for paid users. This leads to a conclusion that users with paid accounts are lot more active (engage with the app)."
   ]
  },
  {
   "cell_type": "markdown",
   "metadata": {},
   "source": [
    "## 2. Defining Churn"
   ]
  },
  {
   "cell_type": "markdown",
   "metadata": {},
   "source": [
    "Create a column `churn` to label users who cancelled subscription and and mark rows for the users, who cancelled subscription, with `churn = 1`."
   ]
  },
  {
   "cell_type": "code",
   "execution_count": 24,
   "metadata": {},
   "outputs": [],
   "source": [
    "cancellation_event = udf(lambda x: 1 if x == \"Cancellation Confirmation\" else 0, IntegerType())\n",
    "df = df.withColumn(\"churn\", cancellation_event(\"page\"))"
   ]
  },
  {
   "cell_type": "code",
   "execution_count": 25,
   "metadata": {},
   "outputs": [
    {
     "name": "stdout",
     "output_type": "stream",
     "text": [
      "+--------------------+\n",
      "|                page|\n",
      "+--------------------+\n",
      "|              Cancel|\n",
      "|    Submit Downgrade|\n",
      "|         Thumbs Down|\n",
      "|                Home|\n",
      "|           Downgrade|\n",
      "|         Roll Advert|\n",
      "|              Logout|\n",
      "|       Save Settings|\n",
      "|Cancellation Conf...|\n",
      "|               About|\n",
      "|            Settings|\n",
      "|     Add to Playlist|\n",
      "|          Add Friend|\n",
      "|            NextSong|\n",
      "|           Thumbs Up|\n",
      "|                Help|\n",
      "|             Upgrade|\n",
      "|               Error|\n",
      "|      Submit Upgrade|\n",
      "+--------------------+\n",
      "\n"
     ]
    }
   ],
   "source": [
    "df.select('page').distinct().show()"
   ]
  },
  {
   "cell_type": "code",
   "execution_count": 26,
   "metadata": {},
   "outputs": [
    {
     "data": {
      "text/plain": [
       "52"
      ]
     },
     "execution_count": 26,
     "metadata": {},
     "output_type": "execute_result"
    }
   ],
   "source": [
    "df.select('page').where(col('page')=='Cancellation Confirmation').count()"
   ]
  },
  {
   "cell_type": "code",
   "execution_count": 27,
   "metadata": {},
   "outputs": [],
   "source": [
    "# get userId of the ones who churn\n",
    "cancelled_users = df.select(['userId']).where(df.churn == 1).groupby('userId').count().toPandas()['userId'].values"
   ]
  },
  {
   "cell_type": "code",
   "execution_count": 28,
   "metadata": {},
   "outputs": [
    {
     "data": {
      "text/plain": [
       "array(['125', '51', '54', '100014', '101', '29', '100021', '87', '73',\n",
       "       '3', '28', '100022', '100025', '300007', '100006', '18', '70',\n",
       "       '100005', '17', '100007', '300001', '100009', '100015', '200024',\n",
       "       '100003', '103', '100024', '53', '122', '200017', '58', '100011',\n",
       "       '100019', '100012', '200018', '200016', '200020', '106', '143',\n",
       "       '32', '200001', '105', '200011', '100023', '100013', '100017',\n",
       "       '121', '12', '200015', '129', '200021', '100001'], dtype=object)"
      ]
     },
     "execution_count": 28,
     "metadata": {},
     "output_type": "execute_result"
    }
   ],
   "source": [
    "cancelled_users"
   ]
  },
  {
   "cell_type": "code",
   "execution_count": 29,
   "metadata": {},
   "outputs": [],
   "source": [
    "# set churn == 1 for all rows for users who cancelled their subscription\n",
    "def fill_array(userId, features):\n",
    "    if(userId in cancelled_users): return 1\n",
    "    else : return 0\n",
    "\n",
    "fill_array_udf = udf(fill_array, IntegerType())\n",
    "\n",
    "df = df.withColumn(\"churn\", fill_array_udf(col(\"userId\"), col(\"churn\")))"
   ]
  },
  {
   "cell_type": "code",
   "execution_count": 30,
   "metadata": {},
   "outputs": [
    {
     "data": {
      "text/plain": [
       "44864"
      ]
     },
     "execution_count": 30,
     "metadata": {},
     "output_type": "execute_result"
    }
   ],
   "source": [
    "df.select('churn').where(col('churn')==1).count()"
   ]
  },
  {
   "cell_type": "markdown",
   "metadata": {},
   "source": [
    "## 3. Explore Data"
   ]
  },
  {
   "cell_type": "markdown",
   "metadata": {},
   "source": [
    "Perform exploratory data analysis to observe the behavior for users who stayed vs users who churned."
   ]
  },
  {
   "cell_type": "markdown",
   "metadata": {},
   "source": [
    "`3.1` Explore number of users who churned vs number of users who stayed with the service:"
   ]
  },
  {
   "cell_type": "code",
   "execution_count": 31,
   "metadata": {},
   "outputs": [
    {
     "name": "stdout",
     "output_type": "stream",
     "text": [
      "The number of users who churned is 52\n",
      "The number of users who didn't cancel subscription is 173\n"
     ]
    }
   ],
   "source": [
    "# find the number of users who churned and who stayed\n",
    "churned_users = df.select('userId').where(df['churn'] == 1).groupBy('userId').count().count()\n",
    "stayed_users = df.select('userId').where(df['churn'] == 0).groupBy('userId').count().count()\n",
    "\n",
    "print('The number of users who churned is {}'.format(churned_users))\n",
    "print('The number of users who didn\\'t cancel subscription is {}'.format(stayed_users))"
   ]
  },
  {
   "cell_type": "markdown",
   "metadata": {},
   "source": [
    "We can see that __the dataset is imbalanced__: number of users who churned is approximately 3 times less than the number of users who stayed. That is why __accuracy is probably not the best metric to evaluate our future machine learning model__. Hence F1 score will be used."
   ]
  },
  {
   "cell_type": "markdown",
   "metadata": {},
   "source": [
    "`3.2`  Explore number of events with respect to categorical columns for users who churned and for users who kept subscription:"
   ]
  },
  {
   "cell_type": "code",
   "execution_count": 32,
   "metadata": {},
   "outputs": [
    {
     "data": {
      "image/png": "[encoded data removed]",
      "text/plain": [
       "<Figure size 432x288 with 1 Axes>"
      ]
     },
     "metadata": {
      "needs_background": "light"
     },
     "output_type": "display_data"
    },
    {
     "data": {
      "image/png": "[encoded data removed]",
      "text/plain": [
       "<Figure size 432x288 with 1 Axes>"
      ]
     },
     "metadata": {
      "needs_background": "light"
     },
     "output_type": "display_data"
    },
    {
     "data": {
      "image/png": "[encoded data removed]",
      "text/plain": [
       "<Figure size 432x288 with 1 Axes>"
      ]
     },
     "metadata": {
      "needs_background": "light"
     },
     "output_type": "display_data"
    },
    {
     "data": {
      "image/png": "[encoded data removed]",
      "text/plain": [
       "<Figure size 432x288 with 1 Axes>"
      ]
     },
     "metadata": {
      "needs_background": "light"
     },
     "output_type": "display_data"
    }
   ],
   "source": [
    "# Now we will compare number of churns categorical column wise\n",
    "cat_columns = ['gender', 'level', 'method', 'auth']\n",
    "\n",
    "width=0.2\n",
    "\n",
    "for i in cat_columns:\n",
    "    \n",
    "    temp1 = df.select([c for c in df.columns]).where(col('churn')==1).groupby(i).agg(count(i)).toPandas()\n",
    "    temp0 = df.select([c for c in df.columns]).where(col('churn')==0).groupby(i).agg(count(i)).toPandas()\n",
    "    x = np.arange(len(temp1))\n",
    "    fig, ax = plt.subplots()\n",
    "    ax.bar(x-0.2, list(temp1.iloc[:,1]),width,color='cyan')\n",
    "    ax.bar(x, list(temp0.iloc[:,1]),width, color='orange')\n",
    "    ax.set_xticks([-0.1,0.9])\n",
    "    ax.set_xticklabels(list(temp1.iloc[:,0]))\n",
    "    ax.set_ylabel(\"count\")\n",
    "    ax.set_title(str(i))\n",
    "    ax.legend([\"churned\",\"not churned\"])\n",
    "    plt.show()\n",
    "\n",
    "\n"
   ]
  },
  {
   "cell_type": "markdown",
   "metadata": {},
   "source": [
    "The plot above tells us the following:\n",
    "1. Despite the fact that there are more events for female than male users, number of events for churned male users is greater than for churned female users. That is why we can suppose that female users who churned are less active service users than those who stay with their subscription.\n"
   ]
  },
  {
   "cell_type": "markdown",
   "metadata": {},
   "source": [
    "`3.3` Explore the gender of churned users and account level:"
   ]
  },
  {
   "cell_type": "code",
   "execution_count": 33,
   "metadata": {},
   "outputs": [
    {
     "data": {
      "image/png": "[encoded data removed]",
      "text/plain": [
       "<Figure size 432x288 with 1 Axes>"
      ]
     },
     "metadata": {
      "needs_background": "light"
     },
     "output_type": "display_data"
    },
    {
     "data": {
      "image/png": "[encoded data removed]",
      "text/plain": [
       "<Figure size 432x288 with 1 Axes>"
      ]
     },
     "metadata": {
      "needs_background": "light"
     },
     "output_type": "display_data"
    }
   ],
   "source": [
    "cat_columns = ['gender', 'level']\n",
    "\n",
    "width=0.2\n",
    "\n",
    "for i in cat_columns:\n",
    "    \n",
    "    temp1 = df.select([c for c in df.columns]).where(col('churn')==1).groupby(i,'UserId').agg(count(i)).groupby(i).agg(count(i)).toPandas()\n",
    "    temp0 = df.select([c for c in df.columns]).where(col('churn')==0).groupby(i,'UserId').agg(count(i)).groupby(i).agg(count(i)).toPandas()\n",
    "    x = np.arange(len(temp1))\n",
    "    fig, ax = plt.subplots()\n",
    "    ax.bar(x-0.2, list(temp1.iloc[:,1]),width,color='cyan')\n",
    "    ax.bar(x, list(temp0.iloc[:,1]),width, color='orange')\n",
    "    ax.set_xticks([-0.1,0.9])\n",
    "    ax.set_xticklabels(list(temp1.iloc[:,0]))\n",
    "    ax.set_ylabel(\"count\")\n",
    "    ax.set_title(str(i))\n",
    "    ax.legend([\"churned\",\"not churned\"])\n",
    "    plt.show()"
   ]
  },
  {
   "cell_type": "markdown",
   "metadata": {},
   "source": [
    "We notice the following points from the plots above:\n",
    "\n",
    "\n",
    "1. There are `32 male` and `20 female` users who churned in the dataset.\n",
    "2. There are `89 male` and `84 female` users who didn't cancel their subscription in the dataset.\n",
    "3. There are only 52 users who churned and having 82 (36 + 46) accounts related to churned users \n",
    "4. This means that 30 of users had both paid and free account levels.\n",
    "5. There are 129 paid and 149 free accounts related to users who didn't cancel their subscription in the dataset.\n"
   ]
  },
  {
   "cell_type": "markdown",
   "metadata": {},
   "source": [
    "`3.4` Explore average song length for users who churned vs users who stayed:"
   ]
  },
  {
   "cell_type": "code",
   "execution_count": 34,
   "metadata": {},
   "outputs": [
    {
     "data": {
      "text/html": [
       "<div>\n",
       "<style scoped>\n",
       "    .dataframe tbody tr th:only-of-type {\n",
       "        vertical-align: middle;\n",
       "    }\n",
       "\n",
       "    .dataframe tbody tr th {\n",
       "        vertical-align: top;\n",
       "    }\n",
       "\n",
       "    .dataframe thead th {\n",
       "        text-align: right;\n",
       "    }\n",
       "</style>\n",
       "<table border=\"1\" class=\"dataframe\">\n",
       "  <thead>\n",
       "    <tr style=\"text-align: right;\">\n",
       "      <th></th>\n",
       "      <th>summary</th>\n",
       "      <th>length</th>\n",
       "    </tr>\n",
       "  </thead>\n",
       "  <tbody>\n",
       "    <tr>\n",
       "      <th>1</th>\n",
       "      <td>mean</td>\n",
       "      <td>248.63279564406366</td>\n",
       "    </tr>\n",
       "    <tr>\n",
       "      <th>2</th>\n",
       "      <td>stddev</td>\n",
       "      <td>102.38497717575474</td>\n",
       "    </tr>\n",
       "  </tbody>\n",
       "</table>\n",
       "</div>"
      ],
      "text/plain": [
       "  summary              length\n",
       "1    mean  248.63279564406366\n",
       "2  stddev  102.38497717575474"
      ]
     },
     "execution_count": 34,
     "metadata": {},
     "output_type": "execute_result"
    }
   ],
   "source": [
    "df.select([c for c in df.columns]).where(df.churn==1).select(col('length')).describe().toPandas()[1:3]"
   ]
  },
  {
   "cell_type": "code",
   "execution_count": 35,
   "metadata": {},
   "outputs": [
    {
     "data": {
      "text/html": [
       "<div>\n",
       "<style scoped>\n",
       "    .dataframe tbody tr th:only-of-type {\n",
       "        vertical-align: middle;\n",
       "    }\n",
       "\n",
       "    .dataframe tbody tr th {\n",
       "        vertical-align: top;\n",
       "    }\n",
       "\n",
       "    .dataframe thead th {\n",
       "        text-align: right;\n",
       "    }\n",
       "</style>\n",
       "<table border=\"1\" class=\"dataframe\">\n",
       "  <thead>\n",
       "    <tr style=\"text-align: right;\">\n",
       "      <th></th>\n",
       "      <th>summary</th>\n",
       "      <th>length</th>\n",
       "    </tr>\n",
       "  </thead>\n",
       "  <tbody>\n",
       "    <tr>\n",
       "      <th>1</th>\n",
       "      <td>mean</td>\n",
       "      <td>249.20913538881427</td>\n",
       "    </tr>\n",
       "    <tr>\n",
       "      <th>2</th>\n",
       "      <td>stddev</td>\n",
       "      <td>98.6258830014688</td>\n",
       "    </tr>\n",
       "  </tbody>\n",
       "</table>\n",
       "</div>"
      ],
      "text/plain": [
       "  summary              length\n",
       "1    mean  249.20913538881427\n",
       "2  stddev    98.6258830014688"
      ]
     },
     "execution_count": 35,
     "metadata": {},
     "output_type": "execute_result"
    }
   ],
   "source": [
    "df.select([c for c in df.columns]).where(df.churn==0).select(col('length')).describe().toPandas()[1:3]"
   ]
  },
  {
   "cell_type": "markdown",
   "metadata": {},
   "source": [
    "We see that average song length for users who churned is very close to the average song length for the other users."
   ]
  },
  {
   "cell_type": "markdown",
   "metadata": {},
   "source": [
    "`3.5`  Explore userAgent column:"
   ]
  },
  {
   "cell_type": "code",
   "execution_count": 36,
   "metadata": {},
   "outputs": [],
   "source": [
    "# create a new column for parsed agent \n",
    "def get_agent(agent):\n",
    "    agent = agent.split()[0]\n",
    "    return re.sub(r'[^\\w\\s]','',agent)\n",
    "    \n",
    "get_agent_udf = udf(get_agent, StringType())\n",
    "df = df.withColumn('agent', get_agent_udf(col('userAgent')))"
   ]
  },
  {
   "cell_type": "code",
   "execution_count": 37,
   "metadata": {
    "scrolled": true
   },
   "outputs": [
    {
     "name": "stdout",
     "output_type": "stream",
     "text": [
      "+---------+\n",
      "|    agent|\n",
      "+---------+\n",
      "|Mozilla50|\n",
      "+---------+\n",
      "\n"
     ]
    }
   ],
   "source": [
    "# select all agent values\n",
    "df.select('agent').distinct().show()"
   ]
  },
  {
   "cell_type": "markdown",
   "metadata": {},
   "source": [
    "We see that the 1st user agent is Mozilla for all users. So this column is not informative for mini dataset."
   ]
  },
  {
   "cell_type": "markdown",
   "metadata": {},
   "source": [
    "`3.6` Explore location column:"
   ]
  },
  {
   "cell_type": "code",
   "execution_count": 38,
   "metadata": {},
   "outputs": [],
   "source": [
    "# create column for state for each event extracting it from location\n",
    "\n",
    "def get_state(location):\n",
    "    location = location.split(',')[-1].strip()\n",
    "    if (len(location) > 2):\n",
    "        location = location.split('-')[-1].strip()\n",
    "    \n",
    "    return location\n",
    "    \n",
    "get_state_udf = udf(get_state, StringType())\n",
    "df = df.withColumn('state', get_state_udf(col('location')))"
   ]
  },
  {
   "cell_type": "code",
   "execution_count": 39,
   "metadata": {},
   "outputs": [
    {
     "data": {
      "text/plain": [
       "39"
      ]
     },
     "execution_count": 39,
     "metadata": {},
     "output_type": "execute_result"
    }
   ],
   "source": [
    "# Number of distinct states\n",
    "df.select('state').distinct().count()"
   ]
  },
  {
   "cell_type": "code",
   "execution_count": 40,
   "metadata": {},
   "outputs": [
    {
     "name": "stdout",
     "output_type": "stream",
     "text": [
      "+-----+-----+\n",
      "|state|count|\n",
      "+-----+-----+\n",
      "|   CA|46771|\n",
      "|   PA|26607|\n",
      "|   TX|23494|\n",
      "|   NH|18637|\n",
      "|   FL|13190|\n",
      "|   NC|11771|\n",
      "|   WI| 8697|\n",
      "|   MD| 8600|\n",
      "|   SC| 8448|\n",
      "|   IN| 8230|\n",
      "|   NJ| 7816|\n",
      "|   CO| 7493|\n",
      "|   MI| 7216|\n",
      "|   IL| 6960|\n",
      "|   CT| 6720|\n",
      "|   VA| 6514|\n",
      "|   WV| 6350|\n",
      "|   AL| 5573|\n",
      "|   AZ| 4846|\n",
      "|   MS| 4634|\n",
      "+-----+-----+\n",
      "only showing top 20 rows\n",
      "\n"
     ]
    }
   ],
   "source": [
    "df.select([c for c in df.columns]).groupby('state').count().orderBy('count', ascending=False).show()"
   ]
  },
  {
   "cell_type": "markdown",
   "metadata": {},
   "source": [
    "From the above table, we can see that California has maximum activity"
   ]
  },
  {
   "cell_type": "code",
   "execution_count": 41,
   "metadata": {},
   "outputs": [],
   "source": [
    "# calculate number of events for users who churned/stayed for each state\n",
    "\n",
    "value_counts_ch = df.where(df['churn'] == 1).groupBy('state').count().toPandas().sort_values('state')\n",
    "value_counts_st = df.where(df['churn'] == 0).groupBy('state').count().toPandas().sort_values('state')"
   ]
  },
  {
   "cell_type": "code",
   "execution_count": 42,
   "metadata": {},
   "outputs": [
    {
     "data": {
      "text/html": [
       "<div>\n",
       "<style scoped>\n",
       "    .dataframe tbody tr th:only-of-type {\n",
       "        vertical-align: middle;\n",
       "    }\n",
       "\n",
       "    .dataframe tbody tr th {\n",
       "        vertical-align: top;\n",
       "    }\n",
       "\n",
       "    .dataframe thead th {\n",
       "        text-align: right;\n",
       "    }\n",
       "</style>\n",
       "<table border=\"1\" class=\"dataframe\">\n",
       "  <thead>\n",
       "    <tr style=\"text-align: right;\">\n",
       "      <th></th>\n",
       "      <th>state</th>\n",
       "      <th>count</th>\n",
       "    </tr>\n",
       "  </thead>\n",
       "  <tbody>\n",
       "    <tr>\n",
       "      <th>0</th>\n",
       "      <td>AK</td>\n",
       "      <td>3563</td>\n",
       "    </tr>\n",
       "    <tr>\n",
       "      <th>1</th>\n",
       "      <td>AL</td>\n",
       "      <td>3471</td>\n",
       "    </tr>\n",
       "    <tr>\n",
       "      <th>2</th>\n",
       "      <td>AZ</td>\n",
       "      <td>4595</td>\n",
       "    </tr>\n",
       "    <tr>\n",
       "      <th>3</th>\n",
       "      <td>CA</td>\n",
       "      <td>39158</td>\n",
       "    </tr>\n",
       "    <tr>\n",
       "      <th>4</th>\n",
       "      <td>CO</td>\n",
       "      <td>3176</td>\n",
       "    </tr>\n",
       "    <tr>\n",
       "      <th>5</th>\n",
       "      <td>CT</td>\n",
       "      <td>6720</td>\n",
       "    </tr>\n",
       "    <tr>\n",
       "      <th>6</th>\n",
       "      <td>FL</td>\n",
       "      <td>11427</td>\n",
       "    </tr>\n",
       "    <tr>\n",
       "      <th>7</th>\n",
       "      <td>GA</td>\n",
       "      <td>4236</td>\n",
       "    </tr>\n",
       "    <tr>\n",
       "      <th>8</th>\n",
       "      <td>IA</td>\n",
       "      <td>838</td>\n",
       "    </tr>\n",
       "    <tr>\n",
       "      <th>9</th>\n",
       "      <td>ID</td>\n",
       "      <td>317</td>\n",
       "    </tr>\n",
       "    <tr>\n",
       "      <th>10</th>\n",
       "      <td>IL</td>\n",
       "      <td>6112</td>\n",
       "    </tr>\n",
       "    <tr>\n",
       "      <th>11</th>\n",
       "      <td>IN</td>\n",
       "      <td>7312</td>\n",
       "    </tr>\n",
       "    <tr>\n",
       "      <th>12</th>\n",
       "      <td>KS</td>\n",
       "      <td>2049</td>\n",
       "    </tr>\n",
       "    <tr>\n",
       "      <th>13</th>\n",
       "      <td>KY</td>\n",
       "      <td>446</td>\n",
       "    </tr>\n",
       "    <tr>\n",
       "      <th>14</th>\n",
       "      <td>LA</td>\n",
       "      <td>955</td>\n",
       "    </tr>\n",
       "    <tr>\n",
       "      <th>15</th>\n",
       "      <td>MA</td>\n",
       "      <td>927</td>\n",
       "    </tr>\n",
       "    <tr>\n",
       "      <th>16</th>\n",
       "      <td>MD</td>\n",
       "      <td>6752</td>\n",
       "    </tr>\n",
       "    <tr>\n",
       "      <th>17</th>\n",
       "      <td>MI</td>\n",
       "      <td>5258</td>\n",
       "    </tr>\n",
       "    <tr>\n",
       "      <th>18</th>\n",
       "      <td>MS</td>\n",
       "      <td>795</td>\n",
       "    </tr>\n",
       "    <tr>\n",
       "      <th>19</th>\n",
       "      <td>MT</td>\n",
       "      <td>2132</td>\n",
       "    </tr>\n",
       "    <tr>\n",
       "      <th>20</th>\n",
       "      <td>NC</td>\n",
       "      <td>10572</td>\n",
       "    </tr>\n",
       "    <tr>\n",
       "      <th>21</th>\n",
       "      <td>NH</td>\n",
       "      <td>18637</td>\n",
       "    </tr>\n",
       "    <tr>\n",
       "      <th>22</th>\n",
       "      <td>NJ</td>\n",
       "      <td>7816</td>\n",
       "    </tr>\n",
       "    <tr>\n",
       "      <th>23</th>\n",
       "      <td>NV</td>\n",
       "      <td>2042</td>\n",
       "    </tr>\n",
       "    <tr>\n",
       "      <th>24</th>\n",
       "      <td>NY</td>\n",
       "      <td>4079</td>\n",
       "    </tr>\n",
       "    <tr>\n",
       "      <th>25</th>\n",
       "      <td>OH</td>\n",
       "      <td>259</td>\n",
       "    </tr>\n",
       "    <tr>\n",
       "      <th>26</th>\n",
       "      <td>OK</td>\n",
       "      <td>1842</td>\n",
       "    </tr>\n",
       "    <tr>\n",
       "      <th>27</th>\n",
       "      <td>PA</td>\n",
       "      <td>23708</td>\n",
       "    </tr>\n",
       "    <tr>\n",
       "      <th>28</th>\n",
       "      <td>SC</td>\n",
       "      <td>7954</td>\n",
       "    </tr>\n",
       "    <tr>\n",
       "      <th>29</th>\n",
       "      <td>TN</td>\n",
       "      <td>1672</td>\n",
       "    </tr>\n",
       "    <tr>\n",
       "      <th>30</th>\n",
       "      <td>TX</td>\n",
       "      <td>22200</td>\n",
       "    </tr>\n",
       "    <tr>\n",
       "      <th>31</th>\n",
       "      <td>UT</td>\n",
       "      <td>1102</td>\n",
       "    </tr>\n",
       "    <tr>\n",
       "      <th>32</th>\n",
       "      <td>VA</td>\n",
       "      <td>6514</td>\n",
       "    </tr>\n",
       "    <tr>\n",
       "      <th>33</th>\n",
       "      <td>WA</td>\n",
       "      <td>365</td>\n",
       "    </tr>\n",
       "    <tr>\n",
       "      <th>34</th>\n",
       "      <td>WI</td>\n",
       "      <td>8097</td>\n",
       "    </tr>\n",
       "    <tr>\n",
       "      <th>35</th>\n",
       "      <td>WV</td>\n",
       "      <td>6192</td>\n",
       "    </tr>\n",
       "  </tbody>\n",
       "</table>\n",
       "</div>"
      ],
      "text/plain": [
       "   state  count\n",
       "0     AK   3563\n",
       "1     AL   3471\n",
       "2     AZ   4595\n",
       "3     CA  39158\n",
       "4     CO   3176\n",
       "5     CT   6720\n",
       "6     FL  11427\n",
       "7     GA   4236\n",
       "8     IA    838\n",
       "9     ID    317\n",
       "10    IL   6112\n",
       "11    IN   7312\n",
       "12    KS   2049\n",
       "13    KY    446\n",
       "14    LA    955\n",
       "15    MA    927\n",
       "16    MD   6752\n",
       "17    MI   5258\n",
       "18    MS    795\n",
       "19    MT   2132\n",
       "20    NC  10572\n",
       "21    NH  18637\n",
       "22    NJ   7816\n",
       "23    NV   2042\n",
       "24    NY   4079\n",
       "25    OH    259\n",
       "26    OK   1842\n",
       "27    PA  23708\n",
       "28    SC   7954\n",
       "29    TN   1672\n",
       "30    TX  22200\n",
       "31    UT   1102\n",
       "32    VA   6514\n",
       "33    WA    365\n",
       "34    WI   8097\n",
       "35    WV   6192"
      ]
     },
     "execution_count": 42,
     "metadata": {},
     "output_type": "execute_result"
    }
   ],
   "source": [
    "# churned users per state\n",
    "value_counts_st.reset_index().drop(columns='index')"
   ]
  },
  {
   "cell_type": "markdown",
   "metadata": {},
   "source": [
    "### `3.6` __Conclusions__:\n",
    "1. From the exploratory analysis above we learn that behavior of female users is different compairing to behavior of male users:\n",
    "    * Female users are more active: there are fewer female users, but there are more events related to female users.\n",
    "    * Percentage of male users who churned is greater than percentage of female users, who churned, so male users may be more likely to churn.\n",
    "2. Female users who churned have different behavior rather than other female users: female users whi churned are less active users of the service."
   ]
  },
  {
   "cell_type": "markdown",
   "metadata": {},
   "source": [
    "# Feature Engineering"
   ]
  },
  {
   "cell_type": "markdown",
   "metadata": {},
   "source": [
    "We have analysed all the features in the Dataset, Now to predict whether the user is going to churn for each user we will extract the following features:\n",
    "* __gender__, because EDA showed us that male and female users may have different behavior\n",
    "* __last level (paid or free)__, because we see that paid level users are more active and also may have different behavior\n",
    "* __average events per day__ to see how active the user is in general\n",
    "* __average songs per day__ to see how active the user is in listening to the music\n",
    "* __number of thumbs up__ to see how satisfied the user is with the content of the service\n",
    "* __number of thumbs down__ to see how satisfied the user is with the content of the service\n",
    "* __days since the date of first event__ to see how long the user has already been using the service\n",
    "* __last location (state)__ the popularity may vary depending on advertising in different regions\n",
    "* __number of add friend events__ perhaps the user is less likely to churn if his friends are also subscribed to the service."
   ]
  },
  {
   "cell_type": "code",
   "execution_count": 43,
   "metadata": {},
   "outputs": [
    {
     "data": {
      "text/plain": [
       "[Row(artist='Martha Tilston', auth='Logged In', firstName='Colin', gender='M', itemInSession=50, lastName='Freeman', length=277.89016, level='paid', location='Bakersfield, CA', method='PUT', page='NextSong', registration=1538173362000, sessionId=29, song='Rockpools', status=200, ts=1538352117000, userAgent='Mozilla/5.0 (Windows NT 6.1; WOW64; rv:31.0) Gecko/20100101 Firefox/31.0', userId='30', churn=0, agent='Mozilla50', state='CA')]"
      ]
     },
     "execution_count": 43,
     "metadata": {},
     "output_type": "execute_result"
    }
   ],
   "source": [
    "df.head(1)"
   ]
  },
  {
   "cell_type": "code",
   "execution_count": 44,
   "metadata": {},
   "outputs": [],
   "source": [
    "def prepare_dataset(df): \n",
    "    df = clean_data(df)\n",
    "    \n",
    "    cancellation_event = udf(lambda x: 1 if x == \"Cancellation Confirmation\" else 0, IntegerType())   \n",
    "    df = df.withColumn(\"churn\", cancellation_event(\"page\"))   \n",
    "    cancelled_users = df.select(['userId']).where(df.churn == 1).groupby('userId').count().toPandas()['userId'].values\n",
    "    \n",
    "    def fill_array(userId, features):\n",
    "        if(userId in cancelled_users): return 1\n",
    "        else : return 0\n",
    "    \n",
    "    fill_array_udf = udf(fill_array, IntegerType())\n",
    "    df = df.withColumn(\"churn\", fill_array_udf(col(\"userId\"), col(\"churn\")))\n",
    "    \n",
    "    w = Window.partitionBy('userId')\n",
    "    df = df.withColumn('last_ts', max('ts').over(w)) #create last timestamp\n",
    "    df = df.withColumn('first_ts', min('ts').over(w)) #create first timestamp\n",
    "    \n",
    "    def get_date_from_ts(ts):\n",
    "        return str(datetime.utcfromtimestamp(ts / 1000).strftime('%Y-%m-%d'))\n",
    "    \n",
    "    get_date_from_ts_udf = udf(get_date_from_ts, StringType())\n",
    "    df = df.withColumn('last_date', get_date_from_ts_udf(col('last_ts'))) #converting last timestamp to date\n",
    "    df = df.withColumn('first_date', get_date_from_ts_udf(col('first_ts'))) #converting first timestamp to date\n",
    "    \n",
    "    \n",
    "    df = df.withColumn('date', get_date_from_ts_udf(col('ts')))\n",
    "    \n",
    "    \n",
    "    df = df.withColumn('last_level',when(df.last_ts == df.ts, df.level))\n",
    "    \n",
    "    # create column avg_songs to calculate average number of songs per day\n",
    "    w = Window.partitionBy('userId', 'date')\n",
    "    songs = df.where(df.page == 'NextSong').select('userId', 'date', count('userId').over(w).alias('songs')).distinct()\n",
    "    w = Window.partitionBy('userId')\n",
    "    songs = songs.withColumn('avg_songs', avg('songs').over(w))\n",
    "    songs = songs.select(col(\"userId\").alias(\"songs_userId\"), 'avg_songs')\n",
    "    songs = songs.withColumn(\"avg_songs\", round(songs[\"avg_songs\"], 2))\n",
    "    \n",
    "    # create column avg_events to calculate average number of events per day\n",
    "    w = Window.partitionBy('userId', 'date')\n",
    "    events = df.select('userId', 'date', count('userId').over(w).alias('events')).distinct()\n",
    "    w = Window.partitionBy('userId')\n",
    "    events = events.withColumn('avg_events', avg('events').over(w))\n",
    "    events = events.select(col(\"userId\").alias(\"events_userId\"), 'avg_events')\n",
    "    events = events.withColumn(\"avg_events\", round(events[\"avg_events\"], 2))\n",
    "    \n",
    "    # calculate number of thumbs up for a user\n",
    "    w = Window.partitionBy('userId')\n",
    "    thumbsup = df.where(df.page == 'Thumbs Up').select('userId', count('userId').over(w).alias('thumbs_up')).distinct()\n",
    "    thumbsup = thumbsup.select(col(\"userId\").alias(\"thumbsup_userId\"), 'thumbs_up')\n",
    "    \n",
    "    # calculate number of thumbs down for a user\n",
    "    w = Window.partitionBy('userId')\n",
    "    thumbsdown = df.where(df.page == 'Thumbs Down').select('userId', count('userId').over(w).alias('thumbs_down')).distinct()\n",
    "    thumbsdown = thumbsdown.select(col(\"userId\").alias(\"thumbsdown_userId\"), 'thumbs_down')\n",
    "    \n",
    "    # calculate days since the date of the first event\n",
    "    df = df.withColumn(\"days_active\", \n",
    "              datediff(to_date(lit(datetime.now().strftime(\"%Y-%m-%d %H:%M\"))),\n",
    "                       to_date(\"first_date\",\"yyyy-MM-dd\")))\n",
    "    \n",
    "    # add column with state of the event based on location column\n",
    "    def get_state(location):\n",
    "        location = location.split(',')[-1].strip()\n",
    "        if (len(location) > 2):\n",
    "            location = location.split('-')[-1].strip()\n",
    "    \n",
    "        return location\n",
    "    \n",
    "    get_state_udf = udf(get_state, StringType())\n",
    "    df = df.withColumn('state', get_state_udf(col('location')))\n",
    "    \n",
    "    #add column with last location of the user\n",
    "    df = df.withColumn('last_state',when(df.last_ts == df.ts, df.state))\n",
    "    \n",
    "    # calculate number of add friends for a user\n",
    "    w = Window.partitionBy('userId')\n",
    "    addfriend = df.where(df.page == 'Add Friend').select('userId', count('userId').over(w).alias('addfriend')).distinct()\n",
    "    addfriend = addfriend.select(col(\"userId\").alias(\"addfriend_userId\"), 'addfriend')\n",
    "\n",
    "    # assemble everything into resulting dataset\n",
    "    df_ml = df.select('userId', 'gender', 'churn', 'last_level', 'days_active', 'last_state')\\\n",
    "    .dropna().drop_duplicates()\n",
    "    df_ml = df_ml.join(songs, df_ml.userId == songs.songs_userId).distinct()\n",
    "    df_ml = df_ml.join(events, df_ml.userId == events.events_userId).distinct()\n",
    "    df_ml = df_ml.join(thumbsup, df_ml.userId == thumbsup.thumbsup_userId, how='left').distinct()\n",
    "    df_ml = df_ml.fillna(0, subset=['thumbs_up'])\n",
    "    df_ml = df_ml.join(thumbsdown, df_ml.userId == thumbsdown.thumbsdown_userId, how='left').distinct()\n",
    "    df_ml = df_ml.fillna(0, subset=['thumbs_down'])\n",
    "    df_ml = df_ml.join(addfriend, df_ml.userId == addfriend.addfriend_userId, how='left').distinct()\n",
    "    df_ml = df_ml.fillna(0, subset=['addfriend'])\n",
    "    df_ml = df_ml.drop('songs_userId','events_userId', 'thumbsup_userId', 'thumbsdown_userId', 'addfriend_userId')\n",
    "    \n",
    "    return df, df_ml\n",
    "    \n",
    "df = spark.read.json(mini_sparkify_event_data)\n",
    "df.persist()\n",
    "\n",
    "df, df_ml = prepare_dataset(df)"
   ]
  },
  {
   "cell_type": "code",
   "execution_count": 45,
   "metadata": {},
   "outputs": [
    {
     "data": {
      "text/plain": [
       "225"
      ]
     },
     "execution_count": 45,
     "metadata": {},
     "output_type": "execute_result"
    }
   ],
   "source": [
    "df_ml.count()"
   ]
  },
  {
   "cell_type": "code",
   "execution_count": 46,
   "metadata": {},
   "outputs": [
    {
     "data": {
      "text/plain": [
       "[Row(userId='61', gender='M', churn=0, last_level='free', days_active=933, last_state='CA', avg_songs=77.24, avg_events=89.82, thumbs_up=78, thumbs_down=11, addfriend=26)]"
      ]
     },
     "execution_count": 46,
     "metadata": {},
     "output_type": "execute_result"
    }
   ],
   "source": [
    "df_ml.take(1)"
   ]
  },
  {
   "cell_type": "markdown",
   "metadata": {},
   "source": [
    "Look closer at `days_active, avg_songs,avg_events,thumbs_up,thumbs_down,addfriend` columns for different types of users:"
   ]
  },
  {
   "cell_type": "code",
   "execution_count": 47,
   "metadata": {},
   "outputs": [],
   "source": [
    "# find days_active for users who churned vs others\n",
    "churned = df_ml.select(\"days_active\").where(df_ml[\"churn\"] == 1).toPandas()[\"days_active\"].values\n",
    "stayed = df_ml.select(\"days_active\").where(df_ml[\"churn\"] == 0).toPandas()[\"days_active\"].values"
   ]
  },
  {
   "cell_type": "code",
   "execution_count": 48,
   "metadata": {},
   "outputs": [
    {
     "data": {
      "text/plain": [
       "array([925, 933, 934, 931, 923, 934, 934, 931, 934, 931, 934, 934, 934,\n",
       "       926, 934, 934, 924, 932, 929, 934, 915, 933, 934, 932, 934, 931,\n",
       "       932, 934, 930, 932, 934, 931, 933, 933, 931, 932, 931, 932, 933,\n",
       "       934, 932, 932, 933, 932, 934, 933, 934, 929, 933, 923, 934, 934])"
      ]
     },
     "execution_count": 48,
     "metadata": {},
     "output_type": "execute_result"
    }
   ],
   "source": [
    "churned"
   ]
  },
  {
   "cell_type": "code",
   "execution_count": 50,
   "metadata": {},
   "outputs": [
    {
     "data": {
      "image/png": "[encoded data removed]",
      "text/plain": [
       "<Figure size 432x288 with 1 Axes>"
      ]
     },
     "metadata": {
      "needs_background": "light"
     },
     "output_type": "display_data"
    }
   ],
   "source": [
    "# plot days active churned and stayed\n",
    "data = [churned, stayed]\n",
    "fig, ax = plt.subplots()\n",
    "ax.set_title('Days Active')\n",
    "ax.boxplot(data)\n",
    "plt.show()"
   ]
  },
  {
   "cell_type": "code",
   "execution_count": 51,
   "metadata": {},
   "outputs": [
    {
     "data": {
      "image/png": "[encoded data removed]",
      "text/plain": [
       "<Figure size 432x288 with 1 Axes>"
      ]
     },
     "metadata": {
      "needs_background": "light"
     },
     "output_type": "display_data"
    }
   ],
   "source": [
    "# find avg_songs for users who churned vs others\n",
    "churned = df_ml.select(\"avg_songs\").where(df_ml[\"churn\"] == 1).toPandas()[\"avg_songs\"].values\n",
    "stayed = df_ml.select(\"avg_songs\").where(df_ml[\"churn\"] == 0).toPandas()[\"avg_songs\"].values\n",
    "\n",
    "# plot\n",
    "data = [churned, stayed]\n",
    "fig, ax = plt.subplots()\n",
    "ax.set_title('Average Songs per Day')\n",
    "ax.boxplot(data)\n",
    "plt.show()"
   ]
  },
  {
   "cell_type": "code",
   "execution_count": 52,
   "metadata": {},
   "outputs": [
    {
     "data": {
      "image/png": "[encoded data removed]",
      "text/plain": [
       "<Figure size 432x288 with 1 Axes>"
      ]
     },
     "metadata": {
      "needs_background": "light"
     },
     "output_type": "display_data"
    }
   ],
   "source": [
    "# find avg_events for users who churned vs stayed\n",
    "churned = df_ml.select(\"avg_events\").where(df_ml[\"churn\"] == 1).toPandas()[\"avg_events\"].values\n",
    "stayed = df_ml.select(\"avg_events\").where(df_ml[\"churn\"] == 0).toPandas()[\"avg_events\"].values\n",
    "\n",
    "# plot\n",
    "data = [churned, stayed]\n",
    "fig, ax = plt.subplots()\n",
    "ax.set_title('Average Events per Day')\n",
    "ax.boxplot(data)\n",
    "\n",
    "\n",
    "plt.show()"
   ]
  },
  {
   "cell_type": "code",
   "execution_count": 53,
   "metadata": {},
   "outputs": [
    {
     "data": {
      "image/png": "[encoded data removed]",
      "text/plain": [
       "<Figure size 432x288 with 1 Axes>"
      ]
     },
     "metadata": {
      "needs_background": "light"
     },
     "output_type": "display_data"
    }
   ],
   "source": [
    "# find thumbs_up for users who churned vs others\n",
    "churned = df_ml.select(\"thumbs_up\").where(df_ml[\"churn\"] == 1).toPandas()[\"thumbs_up\"].values\n",
    "stayed = df_ml.select(\"thumbs_up\").where(df_ml[\"churn\"] == 0).toPandas()[\"thumbs_up\"].values\n",
    "\n",
    "# plot\n",
    "data = [churned, stayed]\n",
    "fig, ax = plt.subplots()\n",
    "ax.set_title('Number of Thumbs Up')\n",
    "ax.boxplot(data)\n",
    "\n",
    "\n",
    "plt.show()"
   ]
  },
  {
   "cell_type": "code",
   "execution_count": 54,
   "metadata": {},
   "outputs": [
    {
     "data": {
      "image/png": "[encoded data removed]",
      "text/plain": [
       "<Figure size 432x288 with 1 Axes>"
      ]
     },
     "metadata": {
      "needs_background": "light"
     },
     "output_type": "display_data"
    }
   ],
   "source": [
    "# find thumbs_down for users who churned vs others\n",
    "churned = df_ml.select(\"thumbs_down\").where(df_ml[\"churn\"] == 1).toPandas()[\"thumbs_down\"].values\n",
    "stayed = df_ml.select(\"thumbs_down\").where(df_ml[\"churn\"] == 0).toPandas()[\"thumbs_down\"].values\n",
    "\n",
    "# plot\n",
    "data = [churned, stayed]\n",
    "fig, ax = plt.subplots()\n",
    "ax.set_title('Number of Thumbs Down')\n",
    "ax.boxplot(data)\n",
    "\n",
    "\n",
    "plt.show()"
   ]
  },
  {
   "cell_type": "code",
   "execution_count": 55,
   "metadata": {},
   "outputs": [
    {
     "data": {
      "image/png": "[encoded data removed]",
      "text/plain": [
       "<Figure size 432x288 with 1 Axes>"
      ]
     },
     "metadata": {
      "needs_background": "light"
     },
     "output_type": "display_data"
    }
   ],
   "source": [
    "# find addfriend for users who churned vs others\n",
    "churned = df_ml.select(\"addfriend\").where(df_ml[\"churn\"] == 1).toPandas()[\"addfriend\"].values\n",
    "stayed = df_ml.select(\"addfriend\").where(df_ml[\"churn\"] == 0).toPandas()[\"addfriend\"].values\n",
    "\n",
    "# plot\n",
    "data = [churned, stayed]\n",
    "fig, ax = plt.subplots()\n",
    "ax.set_title('Number of Add Friend Events')\n",
    "ax.boxplot(data)\n",
    "\n",
    "\n",
    "plt.show()"
   ]
  },
  {
   "cell_type": "markdown",
   "metadata": {},
   "source": [
    "Plot all numerical columns distributions:"
   ]
  },
  {
   "cell_type": "markdown",
   "metadata": {},
   "source": [
    "### Conclusions"
   ]
  },
  {
   "cell_type": "markdown",
   "metadata": {},
   "source": [
    "There is a difference in the distributions of those features between customers who churned and the others:\n",
    "\n",
    "* The mean values of the average number of events and songs per day are lower for the customers who churned.\n",
    "* The mean values of thumbs up, thumbs down and add friend events are lower for the customers who churned.\n",
    "\n",
    "__This may also mean that the ones who churned were not very active__\n",
    "\n"
   ]
  },
  {
   "cell_type": "markdown",
   "metadata": {},
   "source": [
    "# Modeling"
   ]
  },
  {
   "cell_type": "markdown",
   "metadata": {},
   "source": [
    "## `1.` Split into Train, Test and Validations Sets:"
   ]
  },
  {
   "cell_type": "code",
   "execution_count": 56,
   "metadata": {},
   "outputs": [],
   "source": [
    "# split into train, test and validation sets (60% - 20% - 20%)\n",
    "df_ml = df_ml.withColumnRenamed(\"churn\", \"label\")\n",
    "\n",
    "train, test_valid = df_ml.randomSplit([0.6, 0.4], seed = 42)\n",
    "test, validation = test_valid.randomSplit([0.5, 0.5], seed = 42)"
   ]
  },
  {
   "cell_type": "markdown",
   "metadata": {},
   "source": [
    "## `2.` Create Machine Learning Pipelines:"
   ]
  },
  {
   "cell_type": "markdown",
   "metadata": {},
   "source": [
    " `2.1` Random Forest Classifier:"
   ]
  },
  {
   "cell_type": "code",
   "execution_count": 1,
   "metadata": {},
   "outputs": [
    {
     "ename": "NameError",
     "evalue": "name 'StringIndexer' is not defined",
     "output_type": "error",
     "traceback": [
      "\u001b[1;31m---------------------------------------------------------------------------\u001b[0m",
      "\u001b[1;31mNameError\u001b[0m                                 Traceback (most recent call last)",
      "\u001b[1;32m<ipython-input-1-9065b7eb2d52>\u001b[0m in \u001b[0;36m<module>\u001b[1;34m\u001b[0m\n\u001b[0;32m      1\u001b[0m \u001b[1;31m# index and encode categorical features gender, level and state\u001b[0m\u001b[1;33m\u001b[0m\u001b[1;33m\u001b[0m\u001b[1;33m\u001b[0m\u001b[0m\n\u001b[0;32m      2\u001b[0m \u001b[1;33m\u001b[0m\u001b[0m\n\u001b[1;32m----> 3\u001b[1;33m \u001b[0mstringIndexerGender\u001b[0m \u001b[1;33m=\u001b[0m \u001b[0mStringIndexer\u001b[0m\u001b[1;33m(\u001b[0m\u001b[0minputCol\u001b[0m\u001b[1;33m=\u001b[0m\u001b[1;34m\"gender\"\u001b[0m\u001b[1;33m,\u001b[0m \u001b[0moutputCol\u001b[0m\u001b[1;33m=\u001b[0m\u001b[1;34m\"genderIndex\"\u001b[0m\u001b[1;33m,\u001b[0m \u001b[0mhandleInvalid\u001b[0m \u001b[1;33m=\u001b[0m \u001b[1;34m'skip'\u001b[0m\u001b[1;33m)\u001b[0m\u001b[1;33m\u001b[0m\u001b[1;33m\u001b[0m\u001b[0m\n\u001b[0m\u001b[0;32m      4\u001b[0m \u001b[0mstringIndexerLevel\u001b[0m \u001b[1;33m=\u001b[0m \u001b[0mStringIndexer\u001b[0m\u001b[1;33m(\u001b[0m\u001b[0minputCol\u001b[0m\u001b[1;33m=\u001b[0m\u001b[1;34m\"last_level\"\u001b[0m\u001b[1;33m,\u001b[0m \u001b[0moutputCol\u001b[0m\u001b[1;33m=\u001b[0m\u001b[1;34m\"levelIndex\"\u001b[0m\u001b[1;33m,\u001b[0m \u001b[0mhandleInvalid\u001b[0m \u001b[1;33m=\u001b[0m \u001b[1;34m'skip'\u001b[0m\u001b[1;33m)\u001b[0m\u001b[1;33m\u001b[0m\u001b[1;33m\u001b[0m\u001b[0m\n\u001b[0;32m      5\u001b[0m \u001b[0mstringIndexerState\u001b[0m \u001b[1;33m=\u001b[0m \u001b[0mStringIndexer\u001b[0m\u001b[1;33m(\u001b[0m\u001b[0minputCol\u001b[0m\u001b[1;33m=\u001b[0m\u001b[1;34m\"last_state\"\u001b[0m\u001b[1;33m,\u001b[0m \u001b[0moutputCol\u001b[0m\u001b[1;33m=\u001b[0m\u001b[1;34m\"stateIndex\"\u001b[0m\u001b[1;33m,\u001b[0m \u001b[0mhandleInvalid\u001b[0m \u001b[1;33m=\u001b[0m \u001b[1;34m'skip'\u001b[0m\u001b[1;33m)\u001b[0m\u001b[1;33m\u001b[0m\u001b[1;33m\u001b[0m\u001b[0m\n",
      "\u001b[1;31mNameError\u001b[0m: name 'StringIndexer' is not defined"
     ]
    }
   ],
   "source": [
    "# index and encode categorical features gender, level and state\n",
    "\n",
    "stringIndexerGender = StringIndexer(inputCol=\"gender\", outputCol=\"genderIndex\", handleInvalid = 'skip')\n",
    "stringIndexerLevel = StringIndexer(inputCol=\"last_level\", outputCol=\"levelIndex\", handleInvalid = 'skip')\n",
    "stringIndexerState = StringIndexer(inputCol=\"last_state\", outputCol=\"stateIndex\", handleInvalid = 'skip')\n",
    "\n",
    "encoder = OneHotEncoder(inputCols=[\"genderIndex\", \"levelIndex\", \"stateIndex\"],\n",
    "                                       outputCols=[\"genderVec\", \"levelVec\", \"stateVec\"],\n",
    "                                handleInvalid = 'keep')\n",
    "\n",
    "# create vector for features\n",
    "features = ['genderVec', 'levelVec', 'stateVec', 'days_active', 'avg_songs', 'avg_events', 'thumbs_up', 'thumbs_down', 'addfriend']\n",
    "assembler = VectorAssembler(inputCols=features, outputCol=\"features\")\n",
    "\n",
    "# initialize random forest classifier\n",
    "rf = RandomForestClassifier(labelCol=\"label\", featuresCol=\"features\", numTrees=10)\n",
    "\n",
    "# assemble pipeline\n",
    "pipeline = Pipeline(stages = [stringIndexerGender, stringIndexerLevel, stringIndexerState, encoder, assembler, rf])"
   ]
  },
  {
   "cell_type": "code",
   "execution_count": 60,
   "metadata": {},
   "outputs": [],
   "source": [
    "model = pipeline.fit(train)"
   ]
  },
  {
   "cell_type": "code",
   "execution_count": 864,
   "metadata": {},
   "outputs": [],
   "source": [
    "pred_train = model.transform(train)\n",
    "pred_test = model.transform(test)"
   ]
  },
  {
   "cell_type": "code",
   "execution_count": 865,
   "metadata": {},
   "outputs": [
    {
     "name": "stdout",
     "output_type": "stream",
     "text": [
      "F1 score on train dataset is 0.8273381294964028\n"
     ]
    }
   ],
   "source": [
    "predictionAndLabels = pred_train.rdd.map(lambda lp: (float(lp.prediction), float(lp.label)))\n",
    "\n",
    "# Instantiate metrics object\n",
    "metrics = MulticlassMetrics(predictionAndLabels)\n",
    "\n",
    "# F1 score\n",
    "print(\"F1 score on train dataset is %s\" % metrics.fMeasure())"
   ]
  },
  {
   "cell_type": "code",
   "execution_count": 866,
   "metadata": {
    "scrolled": true
   },
   "outputs": [
    {
     "name": "stdout",
     "output_type": "stream",
     "text": [
      "F1 score on test dataset is 1.0\n"
     ]
    }
   ],
   "source": [
    "predictionAndLabels = pred_test.rdd.map(lambda lp: (float(lp.prediction), float(lp.label)))\n",
    "\n",
    "# Instantiate metrics object\n",
    "metrics = MulticlassMetrics(predictionAndLabels)\n",
    "\n",
    "# F1 score\n",
    "print(\"F1 score on test dataset is %s\" % metrics.fMeasure())"
   ]
  },
  {
   "cell_type": "markdown",
   "metadata": {},
   "source": [
    "Tune parameters for Random Forest classifier:"
   ]
  },
  {
   "cell_type": "code",
   "execution_count": 897,
   "metadata": {},
   "outputs": [],
   "source": [
    "paramGrid = ParamGridBuilder() \\\n",
    "    .addGrid(rf.numTrees, [10, 20, 30]) \\\n",
    "    .addGrid(rf.maxDepth, [3, 5, 10]) \\\n",
    "    .build()"
   ]
  },
  {
   "cell_type": "code",
   "execution_count": 898,
   "metadata": {},
   "outputs": [],
   "source": [
    "crossval = CrossValidator(estimator=pipeline,\n",
    "                          estimatorParamMaps=paramGrid,\n",
    "                          evaluator=MulticlassClassificationEvaluator(),\n",
    "                          numFolds=3)"
   ]
  },
  {
   "cell_type": "code",
   "execution_count": 899,
   "metadata": {},
   "outputs": [],
   "source": [
    "cvModel = crossval.fit(train)"
   ]
  },
  {
   "cell_type": "code",
   "execution_count": 901,
   "metadata": {},
   "outputs": [],
   "source": [
    "bestModel = cvModel.bestModel"
   ]
  },
  {
   "cell_type": "code",
   "execution_count": 902,
   "metadata": {},
   "outputs": [
    {
     "name": "stdout",
     "output_type": "stream",
     "text": [
      "F1 score on test dataset is 0.4\n"
     ]
    }
   ],
   "source": [
    "pred_test = bestModel.transform(test)\n",
    "\n",
    "predictionAndLabels = pred_test.rdd.map(lambda lp: (float(lp.prediction), float(lp.label)))\n",
    "\n",
    "# Instantiate metrics object\n",
    "metrics = MulticlassMetrics(predictionAndLabels)\n",
    "\n",
    "# F1 score\n",
    "print(\"F1 score on test dataset is %s\" % metrics.fMeasure())"
   ]
  },
  {
   "cell_type": "markdown",
   "metadata": {},
   "source": [
    " `2.2` Logistic Regression classifier:"
   ]
  },
  {
   "cell_type": "code",
   "execution_count": 880,
   "metadata": {},
   "outputs": [],
   "source": [
    "# initialize logistic regression\n",
    "lr = LogisticRegression(maxIter=10, regParam=0.3, elasticNetParam=0.8, family=\"multinomial\")\n",
    "\n",
    "# assemble pipeline\n",
    "pipeline = Pipeline(stages = [stringIndexerGender, stringIndexerLevel, stringIndexerState, encoder, lr])"
   ]
  },
  {
   "cell_type": "code",
   "execution_count": 881,
   "metadata": {},
   "outputs": [],
   "source": [
    "model = pipeline.fit(train)\n",
    "pred_train = model.transform(train)\n",
    "pred_test = model.transform(test)"
   ]
  },
  {
   "cell_type": "code",
   "execution_count": 882,
   "metadata": {},
   "outputs": [
    {
     "name": "stdout",
     "output_type": "stream",
     "text": [
      "F1 score on train dataset is 0.7697841726618705\n"
     ]
    }
   ],
   "source": [
    "predictionAndLabels = pred_train.rdd.map(lambda lp: (float(lp.prediction), float(lp.label)))\n",
    "\n",
    "# Instantiate metrics object\n",
    "metrics = MulticlassMetrics(predictionAndLabels)\n",
    "\n",
    "# F1 score\n",
    "print(\"F1 score on train dataset is %s\" % metrics.fMeasure())"
   ]
  },
  {
   "cell_type": "code",
   "execution_count": 883,
   "metadata": {},
   "outputs": [
    {
     "name": "stdout",
     "output_type": "stream",
     "text": [
      "F1 score on test dataset is 1.0\n"
     ]
    }
   ],
   "source": [
    "predictionAndLabels = pred_test.rdd.map(lambda lp: (float(lp.prediction), float(lp.label)))\n",
    "\n",
    "# Instantiate metrics object\n",
    "metrics = MulticlassMetrics(predictionAndLabels)\n",
    "\n",
    "# F1 score\n",
    "print(\"F1 score on test dataset is %s\" % metrics.fMeasure())"
   ]
  },
  {
   "cell_type": "markdown",
   "metadata": {},
   "source": [
    " `2.3` Gradient-boosted tree classifier:"
   ]
  },
  {
   "cell_type": "code",
   "execution_count": 887,
   "metadata": {},
   "outputs": [],
   "source": [
    "gbt = GBTClassifier(labelCol=\"label\", featuresCol=\"features\", maxIter=10)\n",
    "\n",
    "# assemble pipeline\n",
    "pipeline = Pipeline(stages = [stringIndexerGender, stringIndexerLevel, stringIndexerState, encoder, assembler, gbt])"
   ]
  },
  {
   "cell_type": "code",
   "execution_count": 888,
   "metadata": {},
   "outputs": [],
   "source": [
    "model = pipeline.fit(train)\n",
    "pred_train = model.transform(train)\n",
    "pred_test = model.transform(test)"
   ]
  },
  {
   "cell_type": "code",
   "execution_count": 889,
   "metadata": {},
   "outputs": [
    {
     "name": "stdout",
     "output_type": "stream",
     "text": [
      "F1 score on train dataset is 0.9856115107913669\n"
     ]
    }
   ],
   "source": [
    "predictionAndLabels = pred_train.rdd.map(lambda lp: (float(lp.prediction), float(lp.label)))\n",
    "\n",
    "# Instantiate metrics object\n",
    "metrics = MulticlassMetrics(predictionAndLabels)\n",
    "\n",
    "# F1 score\n",
    "print(\"F1 score on train dataset is %s\" % metrics.fMeasure())"
   ]
  },
  {
   "cell_type": "code",
   "execution_count": 890,
   "metadata": {},
   "outputs": [
    {
     "name": "stdout",
     "output_type": "stream",
     "text": [
      "F1 score on test dataset is 0.9333333333333333\n"
     ]
    }
   ],
   "source": [
    "predictionAndLabels = pred_test.rdd.map(lambda lp: (float(lp.prediction), float(lp.label)))\n",
    "\n",
    "# Instantiate metrics object\n",
    "metrics = MulticlassMetrics(predictionAndLabels)\n",
    "\n",
    "# F1 score\n",
    "print(\"F1 score on test dataset is %s\" % metrics.fMeasure())"
   ]
  },
  {
   "cell_type": "markdown",
   "metadata": {},
   "source": [
    "# Conclusion"
   ]
  },
  {
   "cell_type": "markdown",
   "metadata": {},
   "source": [
    "In this notebook we went through the process from data exploration to modeling.\n",
    "<b>Mini dataset is too small (test and validation sets have only 15 records), so we can't really evaluate models. To be able to evaluate models we should user medium dataset or the whole dataset."
   ]
  }
 ],
 "metadata": {
  "kernelspec": {
   "display_name": "Python 3",
   "language": "python",
   "name": "python3"
  },
  "language_info": {
   "codemirror_mode": {
    "name": "ipython",
    "version": 3
   },
   "file_extension": ".py",
   "mimetype": "text/x-python",
   "name": "python",
   "nbconvert_exporter": "python",
   "pygments_lexer": "ipython3",
   "version": "3.8.5"
  }
 },
 "nbformat": 4,
 "nbformat_minor": 2
}
